{
  "cells": [
    {
      "cell_type": "markdown",
      "metadata": {
        "id": "iRYSCxOfw63R"
      },
      "source": [
        "# **Fully Connected Neural Network: A `CUDA` and `C++` Implementation**\n",
        "\n",
        "## **Prepare workspace**"
      ]
    },
    {
      "cell_type": "code",
      "execution_count": 33,
      "metadata": {
        "colab": {
          "base_uri": "https://localhost:8080/"
        },
        "id": "TuVjWOoYnS9k",
        "outputId": "05fcbac2-2687-405a-edc0-45f6c8ab14b6"
      },
      "outputs": [
        {
          "output_type": "stream",
          "name": "stdout",
          "text": [
            "Drive already mounted at /content/drive; to attempt to forcibly remount, call drive.mount(\"/content/drive\", force_remount=True).\n",
            "/content/drive/MyDrive/PP/prj\n"
          ]
        }
      ],
      "source": [
        "from google.colab import drive\n",
        "drive.mount(\"/content/drive\")\n",
        "%cd /content/drive/MyDrive/PP/prj"
      ]
    },
    {
      "cell_type": "markdown",
      "source": [
        "## **Extract `.gz` data (if needed)**"
      ],
      "metadata": {
        "id": "JxobDUCcMqgs"
      }
    },
    {
      "cell_type": "code",
      "execution_count": null,
      "metadata": {
        "id": "zt_j33LhO3S8",
        "colab": {
          "base_uri": "https://localhost:8080/",
          "height": 556
        },
        "outputId": "b8b98d24-f370-4e96-c3f4-8e1f276bfd03"
      },
      "outputs": [
        {
          "output_type": "stream",
          "name": "stdout",
          "text": [
            "Collecting patool\n",
            "  Downloading patool-3.1.0-py2.py3-none-any.whl.metadata (4.3 kB)\n",
            "Downloading patool-3.1.0-py2.py3-none-any.whl (98 kB)\n",
            "\u001b[2K   \u001b[90m━━━━━━━━━━━━━━━━━━━━━━━━━━━━━━━━━━━━━━━━\u001b[0m \u001b[32m98.4/98.4 kB\u001b[0m \u001b[31m2.0 MB/s\u001b[0m eta \u001b[36m0:00:00\u001b[0m\n",
            "\u001b[?25hInstalling collected packages: patool\n",
            "Successfully installed patool-3.1.0\n"
          ]
        },
        {
          "output_type": "stream",
          "name": "stderr",
          "text": [
            "INFO patool: Extracting mnist/t10k-images-idx3-ubyte.gz ...\n",
            "INFO:patool:Extracting mnist/t10k-images-idx3-ubyte.gz ...\n",
            "INFO patool: running /usr/bin/7z e -omnist -- mnist/t10k-images-idx3-ubyte.gz\n",
            "INFO:patool:running /usr/bin/7z e -omnist -- mnist/t10k-images-idx3-ubyte.gz\n",
            "INFO patool: ... mnist/t10k-images-idx3-ubyte.gz extracted to `mnist'.\n",
            "INFO:patool:... mnist/t10k-images-idx3-ubyte.gz extracted to `mnist'.\n",
            "INFO patool: Extracting mnist/t10k-labels-idx1-ubyte.gz ...\n",
            "INFO:patool:Extracting mnist/t10k-labels-idx1-ubyte.gz ...\n",
            "INFO patool: running /usr/bin/7z e -omnist -- mnist/t10k-labels-idx1-ubyte.gz\n",
            "INFO:patool:running /usr/bin/7z e -omnist -- mnist/t10k-labels-idx1-ubyte.gz\n",
            "INFO patool: ... mnist/t10k-labels-idx1-ubyte.gz extracted to `mnist'.\n",
            "INFO:patool:... mnist/t10k-labels-idx1-ubyte.gz extracted to `mnist'.\n",
            "INFO patool: Extracting mnist/train-images-idx3-ubyte.gz ...\n",
            "INFO:patool:Extracting mnist/train-images-idx3-ubyte.gz ...\n",
            "INFO patool: running /usr/bin/7z e -omnist -- mnist/train-images-idx3-ubyte.gz\n",
            "INFO:patool:running /usr/bin/7z e -omnist -- mnist/train-images-idx3-ubyte.gz\n",
            "INFO patool: ... mnist/train-images-idx3-ubyte.gz extracted to `mnist'.\n",
            "INFO:patool:... mnist/train-images-idx3-ubyte.gz extracted to `mnist'.\n",
            "INFO patool: Extracting mnist/train-labels-idx1-ubyte.gz ...\n",
            "INFO:patool:Extracting mnist/train-labels-idx1-ubyte.gz ...\n",
            "INFO patool: running /usr/bin/7z e -omnist -- mnist/train-labels-idx1-ubyte.gz\n",
            "INFO:patool:running /usr/bin/7z e -omnist -- mnist/train-labels-idx1-ubyte.gz\n",
            "INFO patool: ... mnist/train-labels-idx1-ubyte.gz extracted to `mnist'.\n",
            "INFO:patool:... mnist/train-labels-idx1-ubyte.gz extracted to `mnist'.\n"
          ]
        },
        {
          "output_type": "execute_result",
          "data": {
            "text/plain": [
              "'mnist'"
            ],
            "application/vnd.google.colaboratory.intrinsic+json": {
              "type": "string"
            }
          },
          "metadata": {},
          "execution_count": 3
        }
      ],
      "source": [
        "# Extract data from `.gz`\n",
        "# Only need to run once!\n",
        "!pip install patool\n",
        "import patoolib\n",
        "patoolib.extract_archive(\"mnist/t10k-images-idx3-ubyte.gz\", outdir=\"mnist\")\n",
        "patoolib.extract_archive(\"mnist/t10k-labels-idx1-ubyte.gz\", outdir=\"mnist\")\n",
        "patoolib.extract_archive(\"mnist/train-images-idx3-ubyte.gz\", outdir=\"mnist\")\n",
        "patoolib.extract_archive(\"mnist/train-labels-idx1-ubyte.gz\", outdir=\"mnist\")"
      ]
    },
    {
      "cell_type": "markdown",
      "metadata": {
        "id": "XHDo9SlfxRNB"
      },
      "source": [
        "## **Edit `Makefile`**"
      ]
    },
    {
      "cell_type": "code",
      "execution_count": 34,
      "metadata": {
        "colab": {
          "base_uri": "https://localhost:8080/"
        },
        "id": "eMaJmzUCqeX5",
        "outputId": "04a77630-353d-4ab0-d33a-19ebae9ba304"
      },
      "outputs": [
        {
          "output_type": "stream",
          "name": "stdout",
          "text": [
            "Overwriting Makefile\n"
          ]
        }
      ],
      "source": [
        "%%writefile Makefile\n",
        "\n",
        "# Compilers\n",
        "CXX := g++\n",
        "CXX_FLAGS := -std=c++17 -ggdb\n",
        "NVCC := nvcc\n",
        "\n",
        "# Folders\n",
        "BIN := bin\n",
        "SRC := src\n",
        "INCLUDE := include\n",
        "\n",
        "EXECUTABLE := nn_main\n",
        "\n",
        "all: $(BIN)/$(EXECUTABLE)\n",
        "\n",
        "run: clean all\n",
        "\tclear\n",
        "\t./$(BIN)/$(EXECUTABLE)\n",
        "\n",
        "$(BIN)/$(EXECUTABLE): $(SRC)/*.cu $(SRC)/*.cpp\n",
        "\t$(NVCC) -I $(INCLUDE) $^ -o $@\n",
        "\n",
        "clean:\n",
        "\t-rm $(BIN)/*"
      ]
    },
    {
      "cell_type": "markdown",
      "metadata": {
        "id": "Z93_j8BAOv8k"
      },
      "source": [
        "## **Compile and run**"
      ]
    },
    {
      "cell_type": "code",
      "execution_count": 74,
      "metadata": {
        "colab": {
          "base_uri": "https://localhost:8080/"
        },
        "id": "Y_b83tTQvwaW",
        "outputId": "0938bac4-92e6-45ea-ad7e-934d7ba78b56"
      },
      "outputs": [
        {
          "output_type": "stream",
          "name": "stdout",
          "text": [
            "nvcc -I include src/main.cu src/nn.cu src/utils_device.cu src/data.cpp src/utils_host.cpp -o bin/nn_main\n"
          ]
        }
      ],
      "source": [
        "# Compile\n",
        "!make"
      ]
    },
    {
      "cell_type": "code",
      "execution_count": 75,
      "metadata": {
        "colab": {
          "base_uri": "https://localhost:8080/"
        },
        "id": "5Ketu6FMUOVO",
        "outputId": "96bc9dc6-0eee-499b-9d37-52767bb44723"
      },
      "outputs": [
        {
          "output_type": "stream",
          "name": "stdout",
          "text": [
            "-- # neurons: 20\n",
            "-- # epochs: 3\n",
            "-- learning rate: 0.5\n",
            "Train Images: 60000 with size 784\n",
            "Train Labels: 60000 labels loaded\n",
            "Test Images: 10000 with size 784\n",
            "Test Labels: 10000 labels loaded\n",
            "\n",
            "FORWARD TIME CPU: 3748.043701 ms\n",
            "\n",
            "FORWARD TIME GPU: 339.532196 ms\n",
            "\n",
            "FORWARD TIME GPU (OPTIMIZED): 335.836914 ms\n",
            "\n",
            "-- Mean error CPU - GPU: 7.03699e-06\n",
            "-- Mean error CPU - GPU (optimized): 5.70177e-06\n",
            "\n",
            "CPU Train start...\n",
            "-- number of epochs: 3\n",
            ">>> Epoch 1 CEE loss: 13.0489\n",
            ">>> Epoch 2 CEE loss: 13.4911\n",
            ">>> Epoch 3 CEE loss: 16.124\n",
            "TRAIN TIME: 26333.560547 ms\n",
            "\n",
            "\n",
            "GPU Train start...\n",
            "-- number of epochs: 3\n",
            ">>> Epoch 1 CEE loss: 2.30301\n",
            ">>> Epoch 2 CEE loss: 2.303\n",
            ">>> Epoch 3 CEE loss: 2.30303\n",
            "TRAIN TIME: 15600.505859 ms\n",
            "\n",
            "\n",
            "GPU Optimized Train start...\n",
            "-- number of epochs: 3\n",
            ">>> Epoch 1 CEE loss: 2.30299\n",
            ">>> Epoch 2 CEE loss: 2.303\n",
            ">>> Epoch 3 CEE loss: 2.30304\n",
            "TRAIN TIME: 15391.178711 ms\n",
            "\n"
          ]
        }
      ],
      "source": [
        "# Run the program\n",
        "# ./main <#-neurons> <#-epochs> <learning-rate>\n",
        "!./bin/nn_main 20 3 0.5"
      ]
    }
  ],
  "metadata": {
    "accelerator": "GPU",
    "colab": {
      "gpuType": "T4",
      "provenance": [],
      "collapsed_sections": [
        "JxobDUCcMqgs"
      ]
    },
    "kernelspec": {
      "display_name": "Python 3",
      "name": "python3"
    },
    "language_info": {
      "name": "python"
    }
  },
  "nbformat": 4,
  "nbformat_minor": 0
}