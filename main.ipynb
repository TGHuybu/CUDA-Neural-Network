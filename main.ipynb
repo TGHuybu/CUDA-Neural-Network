{
  "cells": [
    {
      "cell_type": "markdown",
      "metadata": {
        "id": "iRYSCxOfw63R"
      },
      "source": [
        "# **Fully Connected Neural Network: A `CUDA` and `C++` Implementation**\n",
        "\n",
        "## **Prepare workspace**"
      ]
    },
    {
      "cell_type": "code",
      "execution_count": 1,
      "metadata": {
        "colab": {
          "base_uri": "https://localhost:8080/"
        },
        "id": "TuVjWOoYnS9k",
        "outputId": "8c9dbf4b-d69f-44e4-cd44-2aff4ae1c6ac"
      },
      "outputs": [
        {
          "output_type": "stream",
          "name": "stdout",
          "text": [
            "Mounted at /content/drive\n",
            "/content/drive/MyDrive/Project\n"
          ]
        }
      ],
      "source": [
        "from google.colab import drive\n",
        "drive.mount(\"/content/drive\")\n",
        "%cd /content/drive/MyDrive/Project"
      ]
    },
    {
      "cell_type": "markdown",
      "source": [
        "## **Extract `.gz` data (if needed)**"
      ],
      "metadata": {
        "id": "JxobDUCcMqgs"
      }
    },
    {
      "cell_type": "code",
      "execution_count": null,
      "metadata": {
        "id": "zt_j33LhO3S8",
        "colab": {
          "base_uri": "https://localhost:8080/",
          "height": 556
        },
        "outputId": "b8b98d24-f370-4e96-c3f4-8e1f276bfd03"
      },
      "outputs": [
        {
          "output_type": "stream",
          "name": "stdout",
          "text": [
            "Collecting patool\n",
            "  Downloading patool-3.1.0-py2.py3-none-any.whl.metadata (4.3 kB)\n",
            "Downloading patool-3.1.0-py2.py3-none-any.whl (98 kB)\n",
            "\u001b[2K   \u001b[90m━━━━━━━━━━━━━━━━━━━━━━━━━━━━━━━━━━━━━━━━\u001b[0m \u001b[32m98.4/98.4 kB\u001b[0m \u001b[31m2.0 MB/s\u001b[0m eta \u001b[36m0:00:00\u001b[0m\n",
            "\u001b[?25hInstalling collected packages: patool\n",
            "Successfully installed patool-3.1.0\n"
          ]
        },
        {
          "output_type": "stream",
          "name": "stderr",
          "text": [
            "INFO patool: Extracting mnist/t10k-images-idx3-ubyte.gz ...\n",
            "INFO:patool:Extracting mnist/t10k-images-idx3-ubyte.gz ...\n",
            "INFO patool: running /usr/bin/7z e -omnist -- mnist/t10k-images-idx3-ubyte.gz\n",
            "INFO:patool:running /usr/bin/7z e -omnist -- mnist/t10k-images-idx3-ubyte.gz\n",
            "INFO patool: ... mnist/t10k-images-idx3-ubyte.gz extracted to `mnist'.\n",
            "INFO:patool:... mnist/t10k-images-idx3-ubyte.gz extracted to `mnist'.\n",
            "INFO patool: Extracting mnist/t10k-labels-idx1-ubyte.gz ...\n",
            "INFO:patool:Extracting mnist/t10k-labels-idx1-ubyte.gz ...\n",
            "INFO patool: running /usr/bin/7z e -omnist -- mnist/t10k-labels-idx1-ubyte.gz\n",
            "INFO:patool:running /usr/bin/7z e -omnist -- mnist/t10k-labels-idx1-ubyte.gz\n",
            "INFO patool: ... mnist/t10k-labels-idx1-ubyte.gz extracted to `mnist'.\n",
            "INFO:patool:... mnist/t10k-labels-idx1-ubyte.gz extracted to `mnist'.\n",
            "INFO patool: Extracting mnist/train-images-idx3-ubyte.gz ...\n",
            "INFO:patool:Extracting mnist/train-images-idx3-ubyte.gz ...\n",
            "INFO patool: running /usr/bin/7z e -omnist -- mnist/train-images-idx3-ubyte.gz\n",
            "INFO:patool:running /usr/bin/7z e -omnist -- mnist/train-images-idx3-ubyte.gz\n",
            "INFO patool: ... mnist/train-images-idx3-ubyte.gz extracted to `mnist'.\n",
            "INFO:patool:... mnist/train-images-idx3-ubyte.gz extracted to `mnist'.\n",
            "INFO patool: Extracting mnist/train-labels-idx1-ubyte.gz ...\n",
            "INFO:patool:Extracting mnist/train-labels-idx1-ubyte.gz ...\n",
            "INFO patool: running /usr/bin/7z e -omnist -- mnist/train-labels-idx1-ubyte.gz\n",
            "INFO:patool:running /usr/bin/7z e -omnist -- mnist/train-labels-idx1-ubyte.gz\n",
            "INFO patool: ... mnist/train-labels-idx1-ubyte.gz extracted to `mnist'.\n",
            "INFO:patool:... mnist/train-labels-idx1-ubyte.gz extracted to `mnist'.\n"
          ]
        },
        {
          "output_type": "execute_result",
          "data": {
            "text/plain": [
              "'mnist'"
            ],
            "application/vnd.google.colaboratory.intrinsic+json": {
              "type": "string"
            }
          },
          "metadata": {},
          "execution_count": 3
        }
      ],
      "source": [
        "# Extract data from `.gz`\n",
        "# Only need to run once!\n",
        "!pip install patool\n",
        "import patoolib\n",
        "patoolib.extract_archive(\"mnist/t10k-images-idx3-ubyte.gz\", outdir=\"mnist\")\n",
        "patoolib.extract_archive(\"mnist/t10k-labels-idx1-ubyte.gz\", outdir=\"mnist\")\n",
        "patoolib.extract_archive(\"mnist/train-images-idx3-ubyte.gz\", outdir=\"mnist\")\n",
        "patoolib.extract_archive(\"mnist/train-labels-idx1-ubyte.gz\", outdir=\"mnist\")"
      ]
    },
    {
      "cell_type": "markdown",
      "metadata": {
        "id": "XHDo9SlfxRNB"
      },
      "source": [
        "## **Edit `Makefile`**"
      ]
    },
    {
      "cell_type": "code",
      "execution_count": null,
      "metadata": {
        "colab": {
          "base_uri": "https://localhost:8080/"
        },
        "id": "eMaJmzUCqeX5",
        "outputId": "bd47fe4b-6d2e-4c68-d9b3-3ecadcfeeb40"
      },
      "outputs": [
        {
          "output_type": "stream",
          "name": "stdout",
          "text": [
            "Overwriting Makefile\n"
          ]
        }
      ],
      "source": [
        "%%writefile Makefile\n",
        "\n",
        "# Compilers\n",
        "CXX := g++\n",
        "CXX_FLAGS := -std=c++17 -ggdb\n",
        "NVCC := nvcc\n",
        "\n",
        "# Folders\n",
        "BIN := bin\n",
        "SRC := src\n",
        "INCLUDE := include\n",
        "\n",
        "EXECUTABLE := nn_main\n",
        "\n",
        "all: $(BIN)/$(EXECUTABLE)\n",
        "\n",
        "run: clean all\n",
        "\tclear\n",
        "\t./$(BIN)/$(EXECUTABLE)\n",
        "\n",
        "$(BIN)/$(EXECUTABLE): $(SRC)/*.cu $(SRC)/*.cpp\n",
        "\t$(NVCC) -I $(INCLUDE) $^ -o $@\n",
        "\n",
        "clean:\n",
        "\t-rm $(BIN)/*"
      ]
    },
    {
      "cell_type": "markdown",
      "metadata": {
        "id": "Z93_j8BAOv8k"
      },
      "source": [
        "## **Compile and run**"
      ]
    },
    {
      "cell_type": "code",
      "execution_count": 51,
      "metadata": {
        "colab": {
          "base_uri": "https://localhost:8080/"
        },
        "id": "Y_b83tTQvwaW",
        "outputId": "2a438d08-488d-4a8f-8add-79e6f846b8da"
      },
      "outputs": [
        {
          "output_type": "stream",
          "name": "stdout",
          "text": [
            "nvcc -I include src/main.cu src/nn.cu src/utils_device.cu src/data.cpp src/utils_host.cpp -o bin/nn_main\n"
          ]
        }
      ],
      "source": [
        "# Compile\n",
        "!make"
      ]
    },
    {
      "cell_type": "markdown",
      "source": [
        "### **Run with different config**\n",
        "> To run the program:\n",
        "> `./main <#-neurons> <#-epochs> <learning-rate> <mode>` \\\n",
        "> Set `mode` to `0` to not use optimized GPU."
      ],
      "metadata": {
        "id": "6XVc-Ve3VZzP"
      }
    },
    {
      "cell_type": "code",
      "source": [
        "!echo \"BASELINE GPU TEST...\"\n",
        "!./bin/nn_main 20 4 0.5 0"
      ],
      "metadata": {
        "colab": {
          "base_uri": "https://localhost:8080/"
        },
        "id": "Onw-9ukov6kI",
        "outputId": "a2e38cfd-89ea-4525-f4ed-f95132020aca",
        "collapsed": true
      },
      "execution_count": 54,
      "outputs": [
        {
          "output_type": "stream",
          "name": "stdout",
          "text": [
            "BASELINE GPU TEST...\n",
            "-- # neurons: 20\n",
            "-- # epochs: 4\n",
            "-- learning rate: 0.5\n",
            "-- optimize GPU (tiled matmul in FW, fp16 in BW): 0\n",
            "Train Images: 60000 with size 784\n",
            "Train Labels: 60000 labels loaded\n",
            "Test Images: 10000 with size 784\n",
            "Test Labels: 10000 labels loaded\n",
            "\n",
            "- layer 0 forward time: 2980.574951 ms\n",
            "- layer 1 forward time: 79.021629 ms\n",
            "- layer 2 forward time: 51.605698 ms\n",
            "> FORWARD TIME CPU: 3111.387939 ms\n",
            "\n",
            "- layer 0 forward time: 54.005630 ms\n",
            "- layer 1 forward time: 5.348384 ms\n",
            "- layer 2 forward time: 2.537472 ms\n",
            "> FORWARD TIME GPU: 65.901375 ms\n",
            "\n",
            "-- Mean error CPU - GPU: 1.72985e-05\n",
            "\n",
            "Training on CPU...\n",
            "- layer 0 forward time: 2976.766846 ms\n",
            "- layer 1 forward time: 79.888062 ms\n",
            "- layer 2 forward time: 50.814976 ms\n",
            ">>> Epoch 1 CEE loss: 13.4511\n",
            "- layer 0 forward time: 3080.267578 ms\n",
            "- layer 1 forward time: 78.784317 ms\n",
            "- layer 2 forward time: 50.777794 ms\n",
            ">>> Epoch 2 CEE loss: 13.3069\n",
            "- layer 0 forward time: 3015.235840 ms\n",
            "- layer 1 forward time: 131.769440 ms\n",
            "- layer 2 forward time: 79.227524 ms\n",
            ">>> Epoch 3 CEE loss: 14.5115\n",
            "- layer 0 forward time: 2986.613770 ms\n",
            "- layer 1 forward time: 80.227997 ms\n",
            "- layer 2 forward time: 53.864639 ms\n",
            ">>> Epoch 4 CEE loss: 14.5115\n",
            "> TRAIN TIME: 31007.673828 ms\n",
            "\n",
            "Training on GPU...\n",
            "- layer 0 forward time: 54.378914 ms\n",
            "- layer 1 forward time: 5.675808 ms\n",
            "- layer 2 forward time: 2.869632 ms\n",
            "- layer 2 backward time: 11.905312 ms\n",
            "- layer 1 backward time: 12.838912 ms\n",
            "- layer 0 backward time: 74.431198 ms\n",
            ">>> Epoch 1 CEE loss: 13.451\n",
            "- layer 0 forward time: 52.561920 ms\n",
            "- layer 1 forward time: 5.629472 ms\n",
            "- layer 2 forward time: 2.691488 ms\n",
            "- layer 2 backward time: 9.568800 ms\n",
            "- layer 1 backward time: 10.690528 ms\n",
            "- layer 0 backward time: 66.682465 ms\n",
            ">>> Epoch 2 CEE loss: 13.3069\n",
            "- layer 0 forward time: 48.046944 ms\n",
            "- layer 1 forward time: 5.262752 ms\n",
            "- layer 2 forward time: 2.512000 ms\n",
            "- layer 2 backward time: 7.158176 ms\n",
            "- layer 1 backward time: 7.995424 ms\n",
            "- layer 0 backward time: 60.789345 ms\n",
            ">>> Epoch 3 CEE loss: 14.5115\n",
            "- layer 0 forward time: 48.982655 ms\n",
            "- layer 1 forward time: 4.979712 ms\n",
            "- layer 2 forward time: 2.342912 ms\n",
            "- layer 2 backward time: 5.734048 ms\n",
            "- layer 1 backward time: 6.450912 ms\n",
            "- layer 0 backward time: 57.905567 ms\n",
            ">>> Epoch 4 CEE loss: 14.5115\n",
            "> TRAIN TIME: 667.975525 ms\n",
            "\n",
            "Forward on test set, CPU...\n",
            "- layer 0 forward time: 859.994324 ms\n",
            "- layer 1 forward time: 21.932512 ms\n",
            "- layer 2 forward time: 12.964288 ms\n",
            "Forward on test set, GPU...\n",
            "- layer 0 forward time: 9.668512 ms\n",
            "- layer 1 forward time: 0.385920 ms\n",
            "- layer 2 forward time: 0.318048 ms\n",
            "-- Mean error CPU - GPU: 0\n"
          ]
        }
      ]
    },
    {
      "cell_type": "code",
      "source": [
        "!echo \"OPTIMIZED GPU TEST...\"\n",
        "!./bin/nn_main 20 4 0.5 1"
      ],
      "metadata": {
        "colab": {
          "base_uri": "https://localhost:8080/"
        },
        "id": "EfZrAoPAv-GA",
        "outputId": "09d3af36-b8ea-4d86-8878-123da844e448"
      },
      "execution_count": 55,
      "outputs": [
        {
          "output_type": "stream",
          "name": "stdout",
          "text": [
            "OPTIMIZED GPU TEST...\n",
            "-- # neurons: 20\n",
            "-- # epochs: 4\n",
            "-- learning rate: 0.5\n",
            "-- optimize GPU (tiled matmul in FW, fp16 in BW): 1\n",
            "Train Images: 60000 with size 784\n",
            "Train Labels: 60000 labels loaded\n",
            "Test Images: 10000 with size 784\n",
            "Test Labels: 10000 labels loaded\n",
            "\n",
            "- layer 0 forward time: 2989.494385 ms\n",
            "- layer 1 forward time: 79.177536 ms\n",
            "- layer 2 forward time: 50.835457 ms\n",
            "> FORWARD TIME CPU: 3119.703369 ms\n",
            "\n",
            "- layer 0 forward time: 52.343487 ms\n",
            "- layer 1 forward time: 5.411840 ms\n",
            "- layer 2 forward time: 2.627552 ms\n",
            "> FORWARD TIME GPU: 64.315872 ms\n",
            "\n",
            "-- Mean error CPU - GPU: 1.71073e-05\n",
            "\n",
            "Training on CPU...\n",
            "- layer 0 forward time: 2990.043213 ms\n",
            "- layer 1 forward time: 78.734238 ms\n",
            "- layer 2 forward time: 50.972897 ms\n",
            ">>> Epoch 1 CEE loss: 13.4511\n",
            "- layer 0 forward time: 3535.662842 ms\n",
            "- layer 1 forward time: 78.855133 ms\n",
            "- layer 2 forward time: 51.082207 ms\n",
            ">>> Epoch 2 CEE loss: 13.3069\n",
            "- layer 0 forward time: 2982.452393 ms\n",
            "- layer 1 forward time: 79.105888 ms\n",
            "- layer 2 forward time: 48.435551 ms\n",
            ">>> Epoch 3 CEE loss: 14.5115\n",
            "- layer 0 forward time: 3017.890137 ms\n",
            "- layer 1 forward time: 78.116066 ms\n",
            "- layer 2 forward time: 47.112160 ms\n",
            ">>> Epoch 4 CEE loss: 14.5115\n",
            "> TRAIN TIME: 31080.509766 ms\n",
            "\n",
            "Training on GPU...\n",
            "- layer 0 forward time: 49.768608 ms\n",
            "- layer 1 forward time: 5.518720 ms\n",
            "- layer 2 forward time: 2.703264 ms\n",
            "- layer 2 FP16 backward time: 12.515328 ms\n",
            "- layer 1 FP16 backward time: 13.978272 ms\n",
            "- layer 0 FP16 backward time: 41.117153 ms\n",
            ">>> Epoch 1 CEE loss: 13.451\n",
            "- layer 0 forward time: 57.571457 ms\n",
            "- layer 1 forward time: 5.435104 ms\n",
            "- layer 2 forward time: 3.972288 ms\n",
            "- layer 2 FP16 backward time: 10.824256 ms\n",
            "- layer 1 FP16 backward time: 12.220416 ms\n",
            "- layer 0 FP16 backward time: 36.768032 ms\n",
            ">>> Epoch 2 CEE loss: 13.4029\n",
            "- layer 0 forward time: 52.667873 ms\n",
            "- layer 1 forward time: 6.420512 ms\n",
            "- layer 2 forward time: 3.253472 ms\n",
            "- layer 2 FP16 backward time: 11.973632 ms\n",
            "- layer 1 FP16 backward time: 13.400128 ms\n",
            "- layer 0 FP16 backward time: 38.497375 ms\n",
            ">>> Epoch 3 CEE loss: 13.3527\n",
            "- layer 0 forward time: 50.492607 ms\n",
            "- layer 1 forward time: 5.607648 ms\n",
            "- layer 2 forward time: 2.793248 ms\n",
            "- layer 2 FP16 backward time: 11.975712 ms\n",
            "- layer 1 FP16 backward time: 13.453728 ms\n",
            "- layer 0 FP16 backward time: 38.410526 ms\n",
            ">>> Epoch 4 CEE loss: 13.2991\n",
            "> TRAIN TIME: 6564.945801 ms\n",
            "\n",
            "Forward on test set, CPU...\n",
            "- layer 0 forward time: 491.866364 ms\n",
            "- layer 1 forward time: 13.007328 ms\n",
            "- layer 2 forward time: 7.900000 ms\n",
            "Forward on test set, GPU...\n",
            "- layer 0 forward time: 8.479008 ms\n",
            "- layer 1 forward time: 0.480960 ms\n",
            "- layer 2 forward time: 0.327616 ms\n",
            "-- Mean error CPU - GPU: 0.199953\n"
          ]
        }
      ]
    }
  ],
  "metadata": {
    "accelerator": "GPU",
    "colab": {
      "gpuType": "T4",
      "provenance": [],
      "collapsed_sections": [
        "JxobDUCcMqgs"
      ]
    },
    "kernelspec": {
      "display_name": "Python 3",
      "name": "python3"
    },
    "language_info": {
      "name": "python"
    }
  },
  "nbformat": 4,
  "nbformat_minor": 0
}