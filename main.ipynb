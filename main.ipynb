{
  "cells": [
    {
      "cell_type": "markdown",
      "metadata": {
        "id": "iRYSCxOfw63R"
      },
      "source": [
        "# **Fully Connected Neural Network: A `CUDA` and `C++` Implementation**\n",
        "\n",
        "## **Prepare workspace**"
      ]
    },
    {
      "cell_type": "code",
      "execution_count": 7,
      "metadata": {
        "colab": {
          "base_uri": "https://localhost:8080/"
        },
        "id": "TuVjWOoYnS9k",
        "outputId": "20a3a46c-aab8-48ed-db50-b82cb64ee845"
      },
      "outputs": [
        {
          "output_type": "stream",
          "name": "stdout",
          "text": [
            "Drive already mounted at /content/drive; to attempt to forcibly remount, call drive.mount(\"/content/drive\", force_remount=True).\n",
            "/content/drive/MyDrive/ParaProgram/Project\n"
          ]
        }
      ],
      "source": [
        "from google.colab import drive\n",
        "drive.mount(\"/content/drive\")\n",
        "%cd /content/drive/MyDrive/ParaProgram/Project"
      ]
    },
    {
      "cell_type": "markdown",
      "source": [
        "## **Extract `.gz` data (if needed)**"
      ],
      "metadata": {
        "id": "JxobDUCcMqgs"
      }
    },
    {
      "cell_type": "code",
      "execution_count": null,
      "metadata": {
        "id": "zt_j33LhO3S8",
        "colab": {
          "base_uri": "https://localhost:8080/",
          "height": 556
        },
        "outputId": "b8b98d24-f370-4e96-c3f4-8e1f276bfd03"
      },
      "outputs": [
        {
          "output_type": "stream",
          "name": "stdout",
          "text": [
            "Collecting patool\n",
            "  Downloading patool-3.1.0-py2.py3-none-any.whl.metadata (4.3 kB)\n",
            "Downloading patool-3.1.0-py2.py3-none-any.whl (98 kB)\n",
            "\u001b[2K   \u001b[90m━━━━━━━━━━━━━━━━━━━━━━━━━━━━━━━━━━━━━━━━\u001b[0m \u001b[32m98.4/98.4 kB\u001b[0m \u001b[31m2.0 MB/s\u001b[0m eta \u001b[36m0:00:00\u001b[0m\n",
            "\u001b[?25hInstalling collected packages: patool\n",
            "Successfully installed patool-3.1.0\n"
          ]
        },
        {
          "output_type": "stream",
          "name": "stderr",
          "text": [
            "INFO patool: Extracting mnist/t10k-images-idx3-ubyte.gz ...\n",
            "INFO:patool:Extracting mnist/t10k-images-idx3-ubyte.gz ...\n",
            "INFO patool: running /usr/bin/7z e -omnist -- mnist/t10k-images-idx3-ubyte.gz\n",
            "INFO:patool:running /usr/bin/7z e -omnist -- mnist/t10k-images-idx3-ubyte.gz\n",
            "INFO patool: ... mnist/t10k-images-idx3-ubyte.gz extracted to `mnist'.\n",
            "INFO:patool:... mnist/t10k-images-idx3-ubyte.gz extracted to `mnist'.\n",
            "INFO patool: Extracting mnist/t10k-labels-idx1-ubyte.gz ...\n",
            "INFO:patool:Extracting mnist/t10k-labels-idx1-ubyte.gz ...\n",
            "INFO patool: running /usr/bin/7z e -omnist -- mnist/t10k-labels-idx1-ubyte.gz\n",
            "INFO:patool:running /usr/bin/7z e -omnist -- mnist/t10k-labels-idx1-ubyte.gz\n",
            "INFO patool: ... mnist/t10k-labels-idx1-ubyte.gz extracted to `mnist'.\n",
            "INFO:patool:... mnist/t10k-labels-idx1-ubyte.gz extracted to `mnist'.\n",
            "INFO patool: Extracting mnist/train-images-idx3-ubyte.gz ...\n",
            "INFO:patool:Extracting mnist/train-images-idx3-ubyte.gz ...\n",
            "INFO patool: running /usr/bin/7z e -omnist -- mnist/train-images-idx3-ubyte.gz\n",
            "INFO:patool:running /usr/bin/7z e -omnist -- mnist/train-images-idx3-ubyte.gz\n",
            "INFO patool: ... mnist/train-images-idx3-ubyte.gz extracted to `mnist'.\n",
            "INFO:patool:... mnist/train-images-idx3-ubyte.gz extracted to `mnist'.\n",
            "INFO patool: Extracting mnist/train-labels-idx1-ubyte.gz ...\n",
            "INFO:patool:Extracting mnist/train-labels-idx1-ubyte.gz ...\n",
            "INFO patool: running /usr/bin/7z e -omnist -- mnist/train-labels-idx1-ubyte.gz\n",
            "INFO:patool:running /usr/bin/7z e -omnist -- mnist/train-labels-idx1-ubyte.gz\n",
            "INFO patool: ... mnist/train-labels-idx1-ubyte.gz extracted to `mnist'.\n",
            "INFO:patool:... mnist/train-labels-idx1-ubyte.gz extracted to `mnist'.\n"
          ]
        },
        {
          "output_type": "execute_result",
          "data": {
            "text/plain": [
              "'mnist'"
            ],
            "application/vnd.google.colaboratory.intrinsic+json": {
              "type": "string"
            }
          },
          "metadata": {},
          "execution_count": 3
        }
      ],
      "source": [
        "# Extract data from `.gz`\n",
        "# Only need to run once!\n",
        "!pip install patool\n",
        "import patoolib\n",
        "patoolib.extract_archive(\"mnist/t10k-images-idx3-ubyte.gz\", outdir=\"mnist\")\n",
        "patoolib.extract_archive(\"mnist/t10k-labels-idx1-ubyte.gz\", outdir=\"mnist\")\n",
        "patoolib.extract_archive(\"mnist/train-images-idx3-ubyte.gz\", outdir=\"mnist\")\n",
        "patoolib.extract_archive(\"mnist/train-labels-idx1-ubyte.gz\", outdir=\"mnist\")"
      ]
    },
    {
      "cell_type": "markdown",
      "metadata": {
        "id": "XHDo9SlfxRNB"
      },
      "source": [
        "## **Edit `Makefile`**"
      ]
    },
    {
      "cell_type": "code",
      "execution_count": 8,
      "metadata": {
        "colab": {
          "base_uri": "https://localhost:8080/"
        },
        "id": "eMaJmzUCqeX5",
        "outputId": "bd47fe4b-6d2e-4c68-d9b3-3ecadcfeeb40"
      },
      "outputs": [
        {
          "output_type": "stream",
          "name": "stdout",
          "text": [
            "Overwriting Makefile\n"
          ]
        }
      ],
      "source": [
        "%%writefile Makefile\n",
        "\n",
        "# Compilers\n",
        "CXX := g++\n",
        "CXX_FLAGS := -std=c++17 -ggdb\n",
        "NVCC := nvcc\n",
        "\n",
        "# Folders\n",
        "BIN := bin\n",
        "SRC := src\n",
        "INCLUDE := include\n",
        "\n",
        "EXECUTABLE := nn_main\n",
        "\n",
        "all: $(BIN)/$(EXECUTABLE)\n",
        "\n",
        "run: clean all\n",
        "\tclear\n",
        "\t./$(BIN)/$(EXECUTABLE)\n",
        "\n",
        "$(BIN)/$(EXECUTABLE): $(SRC)/*.cu $(SRC)/*.cpp\n",
        "\t$(NVCC) -I $(INCLUDE) $^ -o $@\n",
        "\n",
        "clean:\n",
        "\t-rm $(BIN)/*"
      ]
    },
    {
      "cell_type": "markdown",
      "metadata": {
        "id": "Z93_j8BAOv8k"
      },
      "source": [
        "## **Compile and run**"
      ]
    },
    {
      "cell_type": "code",
      "execution_count": 35,
      "metadata": {
        "colab": {
          "base_uri": "https://localhost:8080/"
        },
        "id": "Y_b83tTQvwaW",
        "outputId": "a563c758-65c1-4873-895e-76c93d4d4ef2"
      },
      "outputs": [
        {
          "output_type": "stream",
          "name": "stdout",
          "text": [
            "nvcc -I include src/main.cu src/nn.cu src/utils_device.cu src/data.cpp src/utils_host.cpp -o bin/nn_main\n",
            "\u001b[01m\u001b[0m\u001b[01msrc/main.cu(19)\u001b[0m: \u001b[01;35mwarning\u001b[0m #550-D: variable \u001b[01m\"use_gpu\"\u001b[0m was set but never used\n",
            "      bool use_gpu = true, optimize = true;\n",
            "           ^\n",
            "\n",
            "\u001b[01;36m\u001b[0m\u001b[01;36mRemark\u001b[0m: The warnings can be suppressed with \"-diag-suppress <warning-number>\"\n",
            "\n",
            "\u001b[01m\u001b[0m\u001b[01msrc/main.cu(19)\u001b[0m: \u001b[01;35mwarning\u001b[0m #550-D: variable \u001b[01m\"optimize\"\u001b[0m was set but never used\n",
            "      bool use_gpu = true, optimize = true;\n",
            "                           ^\n",
            "\n"
          ]
        }
      ],
      "source": [
        "# Compile\n",
        "!make"
      ]
    },
    {
      "cell_type": "markdown",
      "source": [
        "### **Run with different config**"
      ],
      "metadata": {
        "id": "6XVc-Ve3VZzP"
      }
    },
    {
      "cell_type": "code",
      "execution_count": 36,
      "metadata": {
        "colab": {
          "base_uri": "https://localhost:8080/"
        },
        "id": "5Ketu6FMUOVO",
        "outputId": "391fe91a-62ea-4139-b218-b09e27616955",
        "collapsed": true
      },
      "outputs": [
        {
          "output_type": "stream",
          "name": "stdout",
          "text": [
            "Forward test...\n",
            "-- # neurons: 100\n",
            "-- # epochs: 7\n",
            "-- learning rate: 0.5\n",
            "Train Images: 60000 with size 784\n",
            "Train Labels: 60000 labels loaded\n",
            "Test Images: 10000 with size 784\n",
            "Test Labels: 10000 labels loaded\n",
            "\n",
            "- layer 0 forward time: 16764.466797 ms\n",
            "- layer 1 forward time: 1876.091431 ms\n",
            "- layer 2 forward time: 194.665894 ms\n",
            "FORWARD TIME CPU: 18835.658203 ms\n",
            "\n",
            "- layer 0 forward time: 92.677185 ms\n",
            "- layer 1 forward time: 22.272385 ms\n",
            "- layer 2 forward time: 5.120128 ms\n",
            "FORWARD TIME GPU: 125.559135 ms\n",
            "\n",
            "- layer 0 forward time: 83.683235 ms\n",
            "- layer 1 forward time: 20.184128 ms\n",
            "- layer 2 forward time: 4.595296 ms\n",
            "FORWARD TIME GPU (OPTIMIZED): 113.852737 ms\n",
            "\n",
            "-- Mean error CPU - GPU: 6.72998e-09\n",
            "-- Mean error CPU - GPU (optimized): 6.72998e-09\n"
          ]
        }
      ],
      "source": [
        "# Run the program\n",
        "# ./main <#-neurons> <#-epochs> <learning-rate> <mode>\n",
        "\n",
        "!echo \"Forward test...\"\n",
        "!./bin/nn_main 100 7 0.5 1"
      ]
    }
  ],
  "metadata": {
    "accelerator": "GPU",
    "colab": {
      "gpuType": "T4",
      "provenance": [],
      "collapsed_sections": [
        "JxobDUCcMqgs"
      ]
    },
    "kernelspec": {
      "display_name": "Python 3",
      "name": "python3"
    },
    "language_info": {
      "name": "python"
    }
  },
  "nbformat": 4,
  "nbformat_minor": 0
}