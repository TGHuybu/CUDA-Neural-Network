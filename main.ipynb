{
  "cells": [
    {
      "cell_type": "markdown",
      "metadata": {
        "id": "iRYSCxOfw63R"
      },
      "source": [
        "# **Fully Connected Neural Network: A `CUDA` and `C++` Implementation**\n",
        "\n",
        "## **Prepare workspace**"
      ]
    },
    {
      "cell_type": "code",
      "execution_count": 1,
      "metadata": {
        "colab": {
          "base_uri": "https://localhost:8080/"
        },
        "id": "TuVjWOoYnS9k",
        "outputId": "9f86fad2-89bb-4417-8b15-9e846f272017"
      },
      "outputs": [
        {
          "output_type": "stream",
          "name": "stdout",
          "text": [
            "Mounted at /content/drive\n",
            "/content/drive/MyDrive/PP_Project\n"
          ]
        }
      ],
      "source": [
        "from google.colab import drive\n",
        "drive.mount(\"/content/drive\")\n",
        "%cd /content/drive/MyDrive/PP_Project"
      ]
    },
    {
      "cell_type": "markdown",
      "source": [
        "## **Extract `.gz` data (if needed)**"
      ],
      "metadata": {
        "id": "JxobDUCcMqgs"
      }
    },
    {
      "cell_type": "code",
      "execution_count": null,
      "metadata": {
        "id": "zt_j33LhO3S8",
        "colab": {
          "base_uri": "https://localhost:8080/",
          "height": 556
        },
        "outputId": "b8b98d24-f370-4e96-c3f4-8e1f276bfd03"
      },
      "outputs": [
        {
          "output_type": "stream",
          "name": "stdout",
          "text": [
            "Collecting patool\n",
            "  Downloading patool-3.1.0-py2.py3-none-any.whl.metadata (4.3 kB)\n",
            "Downloading patool-3.1.0-py2.py3-none-any.whl (98 kB)\n",
            "\u001b[2K   \u001b[90m━━━━━━━━━━━━━━━━━━━━━━━━━━━━━━━━━━━━━━━━\u001b[0m \u001b[32m98.4/98.4 kB\u001b[0m \u001b[31m2.0 MB/s\u001b[0m eta \u001b[36m0:00:00\u001b[0m\n",
            "\u001b[?25hInstalling collected packages: patool\n",
            "Successfully installed patool-3.1.0\n"
          ]
        },
        {
          "output_type": "stream",
          "name": "stderr",
          "text": [
            "INFO patool: Extracting mnist/t10k-images-idx3-ubyte.gz ...\n",
            "INFO:patool:Extracting mnist/t10k-images-idx3-ubyte.gz ...\n",
            "INFO patool: running /usr/bin/7z e -omnist -- mnist/t10k-images-idx3-ubyte.gz\n",
            "INFO:patool:running /usr/bin/7z e -omnist -- mnist/t10k-images-idx3-ubyte.gz\n",
            "INFO patool: ... mnist/t10k-images-idx3-ubyte.gz extracted to `mnist'.\n",
            "INFO:patool:... mnist/t10k-images-idx3-ubyte.gz extracted to `mnist'.\n",
            "INFO patool: Extracting mnist/t10k-labels-idx1-ubyte.gz ...\n",
            "INFO:patool:Extracting mnist/t10k-labels-idx1-ubyte.gz ...\n",
            "INFO patool: running /usr/bin/7z e -omnist -- mnist/t10k-labels-idx1-ubyte.gz\n",
            "INFO:patool:running /usr/bin/7z e -omnist -- mnist/t10k-labels-idx1-ubyte.gz\n",
            "INFO patool: ... mnist/t10k-labels-idx1-ubyte.gz extracted to `mnist'.\n",
            "INFO:patool:... mnist/t10k-labels-idx1-ubyte.gz extracted to `mnist'.\n",
            "INFO patool: Extracting mnist/train-images-idx3-ubyte.gz ...\n",
            "INFO:patool:Extracting mnist/train-images-idx3-ubyte.gz ...\n",
            "INFO patool: running /usr/bin/7z e -omnist -- mnist/train-images-idx3-ubyte.gz\n",
            "INFO:patool:running /usr/bin/7z e -omnist -- mnist/train-images-idx3-ubyte.gz\n",
            "INFO patool: ... mnist/train-images-idx3-ubyte.gz extracted to `mnist'.\n",
            "INFO:patool:... mnist/train-images-idx3-ubyte.gz extracted to `mnist'.\n",
            "INFO patool: Extracting mnist/train-labels-idx1-ubyte.gz ...\n",
            "INFO:patool:Extracting mnist/train-labels-idx1-ubyte.gz ...\n",
            "INFO patool: running /usr/bin/7z e -omnist -- mnist/train-labels-idx1-ubyte.gz\n",
            "INFO:patool:running /usr/bin/7z e -omnist -- mnist/train-labels-idx1-ubyte.gz\n",
            "INFO patool: ... mnist/train-labels-idx1-ubyte.gz extracted to `mnist'.\n",
            "INFO:patool:... mnist/train-labels-idx1-ubyte.gz extracted to `mnist'.\n"
          ]
        },
        {
          "output_type": "execute_result",
          "data": {
            "text/plain": [
              "'mnist'"
            ],
            "application/vnd.google.colaboratory.intrinsic+json": {
              "type": "string"
            }
          },
          "metadata": {},
          "execution_count": 3
        }
      ],
      "source": [
        "# Extract data from `.gz`\n",
        "# Only need to run once!\n",
        "!pip install patool\n",
        "import patoolib\n",
        "patoolib.extract_archive(\"mnist/t10k-images-idx3-ubyte.gz\", outdir=\"mnist\")\n",
        "patoolib.extract_archive(\"mnist/t10k-labels-idx1-ubyte.gz\", outdir=\"mnist\")\n",
        "patoolib.extract_archive(\"mnist/train-images-idx3-ubyte.gz\", outdir=\"mnist\")\n",
        "patoolib.extract_archive(\"mnist/train-labels-idx1-ubyte.gz\", outdir=\"mnist\")"
      ]
    },
    {
      "cell_type": "markdown",
      "metadata": {
        "id": "XHDo9SlfxRNB"
      },
      "source": [
        "## **Edit `Makefile`**"
      ]
    },
    {
      "cell_type": "code",
      "execution_count": null,
      "metadata": {
        "colab": {
          "base_uri": "https://localhost:8080/"
        },
        "id": "eMaJmzUCqeX5",
        "outputId": "04a77630-353d-4ab0-d33a-19ebae9ba304"
      },
      "outputs": [
        {
          "output_type": "stream",
          "name": "stdout",
          "text": [
            "Overwriting Makefile\n"
          ]
        }
      ],
      "source": [
        "%%writefile Makefile\n",
        "\n",
        "# Compilers\n",
        "CXX := g++\n",
        "CXX_FLAGS := -std=c++17 -ggdb\n",
        "NVCC := nvcc\n",
        "\n",
        "# Folders\n",
        "BIN := bin\n",
        "SRC := src\n",
        "INCLUDE := include\n",
        "\n",
        "EXECUTABLE := nn_main\n",
        "\n",
        "all: $(BIN)/$(EXECUTABLE)\n",
        "\n",
        "run: clean all\n",
        "\tclear\n",
        "\t./$(BIN)/$(EXECUTABLE)\n",
        "\n",
        "$(BIN)/$(EXECUTABLE): $(SRC)/*.cu $(SRC)/*.cpp\n",
        "\t$(NVCC) -I $(INCLUDE) $^ -o $@\n",
        "\n",
        "clean:\n",
        "\t-rm $(BIN)/*"
      ]
    },
    {
      "cell_type": "markdown",
      "metadata": {
        "id": "Z93_j8BAOv8k"
      },
      "source": [
        "## **Compile and run**"
      ]
    },
    {
      "cell_type": "code",
      "execution_count": 26,
      "metadata": {
        "colab": {
          "base_uri": "https://localhost:8080/"
        },
        "id": "Y_b83tTQvwaW",
        "outputId": "b7bb4ff6-a2f5-4ff3-ffbc-1a76d0d17f7f"
      },
      "outputs": [
        {
          "output_type": "stream",
          "name": "stdout",
          "text": [
            "make: Nothing to be done for 'all'.\n"
          ]
        }
      ],
      "source": [
        "# Compile\n",
        "!make"
      ]
    },
    {
      "cell_type": "markdown",
      "source": [
        "### **Run with different config**"
      ],
      "metadata": {
        "id": "6XVc-Ve3VZzP"
      }
    },
    {
      "cell_type": "code",
      "execution_count": 27,
      "metadata": {
        "colab": {
          "base_uri": "https://localhost:8080/"
        },
        "id": "5Ketu6FMUOVO",
        "outputId": "0c8d7584-c61d-4713-e462-3d59858bd188",
        "collapsed": true
      },
      "outputs": [
        {
          "output_type": "stream",
          "name": "stdout",
          "text": [
            "Train CPU...\n",
            "-- # neurons: 20\n",
            "-- # epochs: 7\n",
            "-- learning rate: 0.5\n",
            "Train Images: 60000 with size 784\n",
            "Train Labels: 60000 labels loaded\n",
            "Test Images: 10000 with size 784\n",
            "Test Labels: 10000 labels loaded\n",
            "\n",
            "\n",
            "Train start...\n",
            "-- number of epochs: 7\n",
            "- layer 0 forward time: 2984.364746 ms\n",
            "- layer 1 forward time: 82.988930 ms\n",
            "- layer 2 forward time: 51.431458 ms\n",
            ">>> Epoch 1 CEE loss: 13.0526\n",
            "- layer 0 forward time: 3724.683838 ms\n",
            "- layer 1 forward time: 132.526917 ms\n",
            "- layer 2 forward time: 80.441086 ms\n",
            ">>> Epoch 2 CEE loss: 13.4881\n",
            "- layer 0 forward time: 2999.821777 ms\n",
            "- layer 1 forward time: 88.487267 ms\n",
            "- layer 2 forward time: 53.977119 ms\n",
            ">>> Epoch 3 CEE loss: 6.09104\n",
            "- layer 0 forward time: 3853.672607 ms\n",
            "- layer 1 forward time: 90.599869 ms\n",
            "- layer 2 forward time: 50.719807 ms\n",
            ">>> Epoch 4 CEE loss: 3.49842\n",
            "- layer 0 forward time: 2977.855225 ms\n",
            "- layer 1 forward time: 81.764320 ms\n",
            "- layer 2 forward time: 51.855263 ms\n",
            ">>> Epoch 5 CEE loss: 2.59185\n",
            "- layer 0 forward time: 2997.315674 ms\n",
            "- layer 1 forward time: 84.073792 ms\n",
            "- layer 2 forward time: 55.322495 ms\n",
            ">>> Epoch 6 CEE loss: 2.89076\n",
            "- layer 0 forward time: 4183.751953 ms\n",
            "- layer 1 forward time: 138.432281 ms\n",
            "- layer 2 forward time: 81.500160 ms\n",
            ">>> Epoch 7 CEE loss: 6.19139\n",
            "TRAIN TIME: 56800.296875 ms\n",
            "\n"
          ]
        }
      ],
      "source": [
        "# Run the program\n",
        "# ./main <#-neurons> <#-epochs> <learning-rate> <mode>\n",
        "\n",
        "!echo \"Train CPU...\"\n",
        "!./bin/nn_main 20 7 0.5 1"
      ]
    },
    {
      "cell_type": "code",
      "source": [
        "!echo \"Train GPU...\"\n",
        "!./bin/nn_main 20 10 0.5 2"
      ],
      "metadata": {
        "colab": {
          "base_uri": "https://localhost:8080/"
        },
        "id": "-9o_UY2iVhF1",
        "outputId": "ccee734e-1e34-45d6-cc8e-cedc288d37ca"
      },
      "execution_count": 30,
      "outputs": [
        {
          "output_type": "stream",
          "name": "stdout",
          "text": [
            "Train GPU...\n",
            "-- # neurons: 20\n",
            "-- # epochs: 10\n",
            "-- learning rate: 0.5\n",
            "Train Images: 60000 with size 784\n",
            "Train Labels: 60000 labels loaded\n",
            "Test Images: 10000 with size 784\n",
            "Test Labels: 10000 labels loaded\n",
            "\n",
            "\n",
            "Train start...\n",
            "-- number of epochs: 10\n",
            "- layer 0 forward time: 53.676033 ms\n",
            "- layer 1 forward time: 5.775936 ms\n",
            "- layer 2 forward time: 2.583968 ms\n",
            ">>> Epoch 1 CEE loss: 12.1888\n",
            "- layer 0 forward time: 51.175999 ms\n",
            "- layer 1 forward time: 5.233056 ms\n",
            "- layer 2 forward time: 2.411168 ms\n",
            ">>> Epoch 2 CEE loss: 9.27244\n",
            "- layer 0 forward time: 51.753407 ms\n",
            "- layer 1 forward time: 5.215168 ms\n",
            "- layer 2 forward time: 2.360448 ms\n",
            ">>> Epoch 3 CEE loss: 13.1128\n",
            "- layer 0 forward time: 49.527649 ms\n",
            "- layer 1 forward time: 5.177248 ms\n",
            "- layer 2 forward time: 2.312704 ms\n",
            ">>> Epoch 4 CEE loss: 13.0015\n",
            "- layer 0 forward time: 50.446465 ms\n",
            "- layer 1 forward time: 5.144960 ms\n",
            "- layer 2 forward time: 2.305088 ms\n",
            ">>> Epoch 5 CEE loss: 7.87911\n",
            "- layer 0 forward time: 49.128639 ms\n",
            "- layer 1 forward time: 5.173472 ms\n",
            "- layer 2 forward time: 2.281408 ms\n",
            ">>> Epoch 6 CEE loss: 3.31408\n",
            "- layer 0 forward time: 49.146561 ms\n",
            "- layer 1 forward time: 5.168736 ms\n",
            "- layer 2 forward time: 2.300800 ms\n",
            ">>> Epoch 7 CEE loss: 2.37549\n",
            "- layer 0 forward time: 48.876385 ms\n",
            "- layer 1 forward time: 5.170656 ms\n",
            "- layer 2 forward time: 2.522112 ms\n",
            ">>> Epoch 8 CEE loss: 2.33779\n",
            "- layer 0 forward time: 49.233150 ms\n",
            "- layer 1 forward time: 5.143456 ms\n",
            "- layer 2 forward time: 2.316416 ms\n",
            ">>> Epoch 9 CEE loss: 2.37491\n",
            "- layer 0 forward time: 49.087425 ms\n",
            "- layer 1 forward time: 5.163584 ms\n",
            "- layer 2 forward time: 2.276608 ms\n",
            ">>> Epoch 10 CEE loss: 2.41753\n",
            "TRAIN TIME: 4341.693359 ms\n",
            "\n"
          ]
        }
      ]
    },
    {
      "cell_type": "code",
      "source": [
        "!echo \"Train GPU (optimized)...\"\n",
        "!./bin/nn_main 20 10 0.5 3"
      ],
      "metadata": {
        "colab": {
          "base_uri": "https://localhost:8080/"
        },
        "id": "QzC8RpVuVju4",
        "outputId": "5a37f7ba-6bf4-4bbb-f552-e44c67babd1e"
      },
      "execution_count": 32,
      "outputs": [
        {
          "output_type": "stream",
          "name": "stdout",
          "text": [
            "Train GPU (optimized)...\n",
            "-- # neurons: 20\n",
            "-- # epochs: 10\n",
            "-- learning rate: 0.5\n",
            "Train Images: 60000 with size 784\n",
            "Train Labels: 60000 labels loaded\n",
            "Test Images: 10000 with size 784\n",
            "Test Labels: 10000 labels loaded\n",
            "\n",
            "\n",
            "Train start...\n",
            "-- number of epochs: 10\n",
            "- layer 0 forward time: 55.600258 ms\n",
            "- layer 1 forward time: 6.029440 ms\n",
            "- layer 2 forward time: 3.283200 ms\n",
            ">>> Epoch 1 CEE loss: 14.1153\n",
            "- layer 0 forward time: 51.442112 ms\n",
            "- layer 1 forward time: 5.864928 ms\n",
            "- layer 2 forward time: 3.102656 ms\n",
            ">>> Epoch 2 CEE loss: 11.4146\n",
            "- layer 0 forward time: 52.979424 ms\n",
            "- layer 1 forward time: 6.298272 ms\n",
            "- layer 2 forward time: 3.209792 ms\n",
            ">>> Epoch 3 CEE loss: 12.5083\n",
            "- layer 0 forward time: 52.436928 ms\n",
            "- layer 1 forward time: 6.254080 ms\n",
            "- layer 2 forward time: 3.311136 ms\n",
            ">>> Epoch 4 CEE loss: 9.22414\n",
            "- layer 0 forward time: 55.557758 ms\n",
            "- layer 1 forward time: 6.262592 ms\n",
            "- layer 2 forward time: 2.646624 ms\n",
            ">>> Epoch 5 CEE loss: 10.4003\n",
            "- layer 0 forward time: 53.122784 ms\n",
            "- layer 1 forward time: 5.807264 ms\n",
            "- layer 2 forward time: 2.988800 ms\n",
            ">>> Epoch 6 CEE loss: 5.74149\n",
            "- layer 0 forward time: 50.135586 ms\n",
            "- layer 1 forward time: 5.203776 ms\n",
            "- layer 2 forward time: 2.295968 ms\n",
            ">>> Epoch 7 CEE loss: 2.34575\n",
            "- layer 0 forward time: 47.393150 ms\n",
            "- layer 1 forward time: 5.209920 ms\n",
            "- layer 2 forward time: 2.314336 ms\n",
            ">>> Epoch 8 CEE loss: 2.2908\n",
            "- layer 0 forward time: 48.563583 ms\n",
            "- layer 1 forward time: 5.267712 ms\n",
            "- layer 2 forward time: 2.412768 ms\n",
            ">>> Epoch 9 CEE loss: 2.2611\n",
            "- layer 0 forward time: 49.719070 ms\n",
            "- layer 1 forward time: 5.285952 ms\n",
            "- layer 2 forward time: 2.407136 ms\n",
            ">>> Epoch 10 CEE loss: 2.24539\n",
            "TRAIN TIME: 5013.366699 ms\n",
            "\n"
          ]
        }
      ]
    }
  ],
  "metadata": {
    "accelerator": "GPU",
    "colab": {
      "gpuType": "T4",
      "provenance": [],
      "collapsed_sections": [
        "JxobDUCcMqgs"
      ]
    },
    "kernelspec": {
      "display_name": "Python 3",
      "name": "python3"
    },
    "language_info": {
      "name": "python"
    }
  },
  "nbformat": 4,
  "nbformat_minor": 0
}