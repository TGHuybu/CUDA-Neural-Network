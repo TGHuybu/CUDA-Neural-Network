{
 "cells": [
  {
   "cell_type": "markdown",
   "metadata": {
    "id": "iRYSCxOfw63R"
   },
   "source": [
    "# **Fully Connected Neural Network: A `CUDA` and `C++` Implementation**\n",
    "\n",
    "## **Prepare workspace**"
   ]
  },
  {
   "cell_type": "code",
   "execution_count": 2,
   "metadata": {
    "colab": {
     "base_uri": "https://localhost:8080/"
    },
    "executionInfo": {
     "elapsed": 2546,
     "status": "ok",
     "timestamp": 1733734981754,
     "user": {
      "displayName": "FishAquaMail",
      "userId": "14139911862358987735"
     },
     "user_tz": -420
    },
    "id": "TuVjWOoYnS9k",
    "outputId": "9f16149f-213f-4ef0-8049-ff0d6dfecb1f"
   },
   "outputs": [
    {
     "name": "stdout",
     "output_type": "stream",
     "text": [
      "Drive already mounted at /content/drive; to attempt to forcibly remount, call drive.mount(\"/content/drive\", force_remount=True).\n",
      "/content/drive/MyDrive/ParaProgram/Project\n"
     ]
    }
   ],
   "source": [
    "from google.colab import drive\n",
    "drive.mount(\"/content/drive\")\n",
    "%cd /content/drive/MyDrive/ParaProgram/Project"
   ]
  },
  {
   "cell_type": "markdown",
   "metadata": {
    "id": "XHDo9SlfxRNB"
   },
   "source": [
    "## **Edit `Makefile`**"
   ]
  },
  {
   "cell_type": "code",
   "execution_count": null,
   "metadata": {
    "colab": {
     "base_uri": "https://localhost:8080/"
    },
    "executionInfo": {
     "elapsed": 311,
     "status": "ok",
     "timestamp": 1733736721133,
     "user": {
      "displayName": "FishAquaMail",
      "userId": "14139911862358987735"
     },
     "user_tz": -420
    },
    "id": "eMaJmzUCqeX5",
    "outputId": "9ee96dcb-5177-4059-ea56-dc1b1be7fe5f"
   },
   "outputs": [
    {
     "name": "stdout",
     "output_type": "stream",
     "text": [
      "Overwriting Makefile\n"
     ]
    }
   ],
   "source": [
    "%%writefile Makefile\n",
    "\n",
    "# Compilers\n",
    "CXX := g++\n",
    "CXX_FLAGS := -std=c++17 -ggdb\n",
    "NVCC := nvcc\n",
    "\n",
    "# Folders\n",
    "BIN := bin\n",
    "SRC := src\n",
    "INCLUDE := include\n",
    "\n",
    "EXECUTABLE := nn_main\n",
    "\n",
    "all: $(BIN)/$(EXECUTABLE)\n",
    "\n",
    "run: clean all\n",
    "\tclear\n",
    "\t./$(BIN)/$(EXECUTABLE)\n",
    "\n",
    "$(BIN)/$(EXECUTABLE): $(SRC)/*.cu $(SRC)/*.cpp\n",
    "\t$(NVCC) -I $(INCLUDE) $^ -o $@\n",
    "\n",
    "clean:\n",
    "\t-rm $(BIN)/*"
   ]
  },
  {
   "cell_type": "markdown",
   "metadata": {
    "id": "xaKwpCQGzYzm"
   },
   "source": [
    "## **Compile**"
   ]
  },
  {
   "cell_type": "code",
   "execution_count": 35,
   "metadata": {
    "colab": {
     "base_uri": "https://localhost:8080/"
    },
    "executionInfo": {
     "elapsed": 5813,
     "status": "ok",
     "timestamp": 1733737388540,
     "user": {
      "displayName": "FishAquaMail",
      "userId": "14139911862358987735"
     },
     "user_tz": -420
    },
    "id": "GHiGF2e1sRkV",
    "outputId": "a71a90be-4a0f-4273-e9c3-374730921723"
   },
   "outputs": [
    {
     "name": "stdout",
     "output_type": "stream",
     "text": [
      "nvcc -I include  src/main.cu src/nn.cu src/utils_device.cu src/utils_host.cpp -o bin/nn_main\n"
     ]
    }
   ],
   "source": [
    "!make"
   ]
  },
  {
   "cell_type": "markdown",
   "metadata": {
    "id": "JjSABNwfzbF_"
   },
   "source": [
    "## **Run**"
   ]
  },
  {
   "cell_type": "code",
   "execution_count": 36,
   "metadata": {
    "colab": {
     "base_uri": "https://localhost:8080/"
    },
    "executionInfo": {
     "elapsed": 1014,
     "status": "ok",
     "timestamp": 1733737402742,
     "user": {
      "displayName": "FishAquaMail",
      "userId": "14139911862358987735"
     },
     "user_tz": -420
    },
    "id": "Y_b83tTQvwaW",
    "outputId": "b33e602a-c122-4cd2-d76c-a19924807627"
   },
   "outputs": [
    {
     "name": "stdout",
     "output_type": "stream",
     "text": [
      "Using host\n",
      "**********GPU info**********\n",
      "Name: Tesla T4\n",
      "Compute capability: 7.5\n",
      "Num SMs: 40\n",
      "Max num threads per SM: 1024\n",
      "Max num warps per SM: 32\n",
      "GMEM: 15835660288 bytes\n",
      "CMEM: 65536 bytes\n",
      "L2 cache: 4194304 bytes\n",
      "SMEM / one SM: 65536 bytes\n",
      "****************************\n"
     ]
    }
   ],
   "source": [
    "!./bin/nn_main"
   ]
  }
 ],
 "metadata": {
  "accelerator": "GPU",
  "colab": {
   "authorship_tag": "ABX9TyOiCv8888OdxmsXZlEMZuJj",
   "gpuType": "T4",
   "provenance": []
  },
  "kernelspec": {
   "display_name": "Python 3",
   "name": "python3"
  },
  "language_info": {
   "name": "python"
  }
 },
 "nbformat": 4,
 "nbformat_minor": 0
}
