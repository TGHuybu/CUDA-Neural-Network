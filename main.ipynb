{
  "cells": [
    {
      "cell_type": "markdown",
      "metadata": {
        "id": "iRYSCxOfw63R"
      },
      "source": [
        "# **Fully Connected Neural Network: A `CUDA` and `C++` Implementation**\n",
        "\n",
        "## **Prepare workspace**"
      ]
    },
    {
      "cell_type": "code",
      "execution_count": 26,
      "metadata": {
        "colab": {
          "base_uri": "https://localhost:8080/"
        },
        "id": "TuVjWOoYnS9k",
        "outputId": "b477c8a0-c35b-4718-f0aa-0cb1b4339f47"
      },
      "outputs": [
        {
          "output_type": "stream",
          "name": "stdout",
          "text": [
            "Drive already mounted at /content/drive; to attempt to forcibly remount, call drive.mount(\"/content/drive\", force_remount=True).\n",
            "/content/drive/MyDrive/CUDA\n"
          ]
        }
      ],
      "source": [
        "from google.colab import drive\n",
        "drive.mount(\"/content/drive\")\n",
        "%cd /content/drive/MyDrive/CUDA"
      ]
    },
    {
      "cell_type": "markdown",
      "source": [
        "## **Extract `.gz` data (if needed)**"
      ],
      "metadata": {
        "id": "JxobDUCcMqgs"
      }
    },
    {
      "cell_type": "code",
      "execution_count": null,
      "metadata": {
        "id": "zt_j33LhO3S8",
        "colab": {
          "base_uri": "https://localhost:8080/",
          "height": 556
        },
        "outputId": "b8b98d24-f370-4e96-c3f4-8e1f276bfd03"
      },
      "outputs": [
        {
          "output_type": "stream",
          "name": "stdout",
          "text": [
            "Collecting patool\n",
            "  Downloading patool-3.1.0-py2.py3-none-any.whl.metadata (4.3 kB)\n",
            "Downloading patool-3.1.0-py2.py3-none-any.whl (98 kB)\n",
            "\u001b[2K   \u001b[90m━━━━━━━━━━━━━━━━━━━━━━━━━━━━━━━━━━━━━━━━\u001b[0m \u001b[32m98.4/98.4 kB\u001b[0m \u001b[31m2.0 MB/s\u001b[0m eta \u001b[36m0:00:00\u001b[0m\n",
            "\u001b[?25hInstalling collected packages: patool\n",
            "Successfully installed patool-3.1.0\n"
          ]
        },
        {
          "output_type": "stream",
          "name": "stderr",
          "text": [
            "INFO patool: Extracting mnist/t10k-images-idx3-ubyte.gz ...\n",
            "INFO:patool:Extracting mnist/t10k-images-idx3-ubyte.gz ...\n",
            "INFO patool: running /usr/bin/7z e -omnist -- mnist/t10k-images-idx3-ubyte.gz\n",
            "INFO:patool:running /usr/bin/7z e -omnist -- mnist/t10k-images-idx3-ubyte.gz\n",
            "INFO patool: ... mnist/t10k-images-idx3-ubyte.gz extracted to `mnist'.\n",
            "INFO:patool:... mnist/t10k-images-idx3-ubyte.gz extracted to `mnist'.\n",
            "INFO patool: Extracting mnist/t10k-labels-idx1-ubyte.gz ...\n",
            "INFO:patool:Extracting mnist/t10k-labels-idx1-ubyte.gz ...\n",
            "INFO patool: running /usr/bin/7z e -omnist -- mnist/t10k-labels-idx1-ubyte.gz\n",
            "INFO:patool:running /usr/bin/7z e -omnist -- mnist/t10k-labels-idx1-ubyte.gz\n",
            "INFO patool: ... mnist/t10k-labels-idx1-ubyte.gz extracted to `mnist'.\n",
            "INFO:patool:... mnist/t10k-labels-idx1-ubyte.gz extracted to `mnist'.\n",
            "INFO patool: Extracting mnist/train-images-idx3-ubyte.gz ...\n",
            "INFO:patool:Extracting mnist/train-images-idx3-ubyte.gz ...\n",
            "INFO patool: running /usr/bin/7z e -omnist -- mnist/train-images-idx3-ubyte.gz\n",
            "INFO:patool:running /usr/bin/7z e -omnist -- mnist/train-images-idx3-ubyte.gz\n",
            "INFO patool: ... mnist/train-images-idx3-ubyte.gz extracted to `mnist'.\n",
            "INFO:patool:... mnist/train-images-idx3-ubyte.gz extracted to `mnist'.\n",
            "INFO patool: Extracting mnist/train-labels-idx1-ubyte.gz ...\n",
            "INFO:patool:Extracting mnist/train-labels-idx1-ubyte.gz ...\n",
            "INFO patool: running /usr/bin/7z e -omnist -- mnist/train-labels-idx1-ubyte.gz\n",
            "INFO:patool:running /usr/bin/7z e -omnist -- mnist/train-labels-idx1-ubyte.gz\n",
            "INFO patool: ... mnist/train-labels-idx1-ubyte.gz extracted to `mnist'.\n",
            "INFO:patool:... mnist/train-labels-idx1-ubyte.gz extracted to `mnist'.\n"
          ]
        },
        {
          "output_type": "execute_result",
          "data": {
            "text/plain": [
              "'mnist'"
            ],
            "application/vnd.google.colaboratory.intrinsic+json": {
              "type": "string"
            }
          },
          "metadata": {},
          "execution_count": 3
        }
      ],
      "source": [
        "# Extract data from `.gz`\n",
        "# Only need to run once!\n",
        "!pip install patool\n",
        "import patoolib\n",
        "patoolib.extract_archive(\"mnist/t10k-images-idx3-ubyte.gz\", outdir=\"mnist\")\n",
        "patoolib.extract_archive(\"mnist/t10k-labels-idx1-ubyte.gz\", outdir=\"mnist\")\n",
        "patoolib.extract_archive(\"mnist/train-images-idx3-ubyte.gz\", outdir=\"mnist\")\n",
        "patoolib.extract_archive(\"mnist/train-labels-idx1-ubyte.gz\", outdir=\"mnist\")"
      ]
    },
    {
      "cell_type": "markdown",
      "metadata": {
        "id": "XHDo9SlfxRNB"
      },
      "source": [
        "## **Edit `Makefile`**"
      ]
    },
    {
      "cell_type": "code",
      "execution_count": null,
      "metadata": {
        "colab": {
          "base_uri": "https://localhost:8080/"
        },
        "id": "eMaJmzUCqeX5",
        "outputId": "04a77630-353d-4ab0-d33a-19ebae9ba304"
      },
      "outputs": [
        {
          "output_type": "stream",
          "name": "stdout",
          "text": [
            "Overwriting Makefile\n"
          ]
        }
      ],
      "source": [
        "%%writefile Makefile\n",
        "\n",
        "# Compilers\n",
        "CXX := g++\n",
        "CXX_FLAGS := -std=c++17 -ggdb\n",
        "NVCC := nvcc\n",
        "\n",
        "# Folders\n",
        "BIN := bin\n",
        "SRC := src\n",
        "INCLUDE := include\n",
        "\n",
        "EXECUTABLE := nn_main\n",
        "\n",
        "all: $(BIN)/$(EXECUTABLE)\n",
        "\n",
        "run: clean all\n",
        "\tclear\n",
        "\t./$(BIN)/$(EXECUTABLE)\n",
        "\n",
        "$(BIN)/$(EXECUTABLE): $(SRC)/*.cu $(SRC)/*.cpp\n",
        "\t$(NVCC) -I $(INCLUDE) $^ -o $@\n",
        "\n",
        "clean:\n",
        "\t-rm $(BIN)/*"
      ]
    },
    {
      "cell_type": "markdown",
      "metadata": {
        "id": "Z93_j8BAOv8k"
      },
      "source": [
        "## **Compile and run**"
      ]
    },
    {
      "cell_type": "code",
      "execution_count": 36,
      "metadata": {
        "colab": {
          "base_uri": "https://localhost:8080/"
        },
        "id": "Y_b83tTQvwaW",
        "outputId": "0d5fa08c-a321-478b-a78b-27cb189b0725"
      },
      "outputs": [
        {
          "output_type": "stream",
          "name": "stdout",
          "text": [
            "nvcc -I include  src/main.cu src/nn.cu src/utils_device.cu src/data.cpp src/utils_host.cpp -o bin/nn_main\n"
          ]
        }
      ],
      "source": [
        "# Compile\n",
        "!make"
      ]
    },
    {
      "cell_type": "markdown",
      "source": [
        "### **Run with different config**"
      ],
      "metadata": {
        "id": "6XVc-Ve3VZzP"
      }
    },
    {
      "cell_type": "code",
      "execution_count": 37,
      "metadata": {
        "colab": {
          "base_uri": "https://localhost:8080/"
        },
        "id": "5Ketu6FMUOVO",
        "outputId": "ce90b36e-c463-499f-d735-178dcb026854"
      },
      "outputs": [
        {
          "output_type": "stream",
          "name": "stdout",
          "text": [
            "Train CPU...\n",
            "-- # neurons: 20\n",
            "-- # epochs: 5\n",
            "-- learning rate: 0.5\n",
            "Train Images: 60000 with size 784\n",
            "Train Labels: 60000 labels loaded\n",
            "Test Images: 10000 with size 784\n",
            "Test Labels: 10000 labels loaded\n",
            "\n",
            "\n",
            "Train start...\n",
            "-- number of epochs: 5\n",
            "- layer 0 forward time: 3553.003418 ms\n",
            "- layer 1 forward time: 86.360382 ms\n",
            "- layer 2 forward time: 53.420033 ms\n",
            ">>> Epoch 1 CEE loss: 13.1673\n",
            "- layer 0 forward time: 3063.780273 ms\n",
            "- layer 1 forward time: 87.075935 ms\n",
            "- layer 2 forward time: 49.783329 ms\n",
            ">>> Epoch 2 CEE loss: 13.6883\n",
            "- layer 0 forward time: 3113.592285 ms\n",
            "- layer 1 forward time: 86.288383 ms\n",
            "- layer 2 forward time: 51.869377 ms\n",
            ">>> Epoch 3 CEE loss: 7.95351\n",
            "- layer 0 forward time: 4610.627441 ms\n",
            "- layer 1 forward time: 92.516350 ms\n",
            "- layer 2 forward time: 50.974720 ms\n",
            ">>> Epoch 4 CEE loss: 2.30289\n",
            "- layer 0 forward time: 3035.546631 ms\n",
            "- layer 1 forward time: 93.261856 ms\n",
            "- layer 2 forward time: 55.039200 ms\n",
            ">>> Epoch 5 CEE loss: 2.30289\n",
            "TRAIN TIME: 42665.164062 ms\n",
            "\n"
          ]
        }
      ],
      "source": [
        "# Run the program\n",
        "# ./main <#-neurons> <#-epochs> <learning-rate> <mode>\n",
        "\n",
        "!echo \"Train CPU...\"\n",
        "!./bin/nn_main 20 5 0.5 1"
      ]
    },
    {
      "cell_type": "code",
      "source": [
        "!echo \"Train GPU...\"\n",
        "!./bin/nn_main 20 5 0.5 2"
      ],
      "metadata": {
        "colab": {
          "base_uri": "https://localhost:8080/"
        },
        "id": "-9o_UY2iVhF1",
        "outputId": "83a5e887-7efc-4292-af4d-eaee7eee426a"
      },
      "execution_count": 38,
      "outputs": [
        {
          "output_type": "stream",
          "name": "stdout",
          "text": [
            "Train GPU...\n",
            "-- # neurons: 20\n",
            "-- # epochs: 5\n",
            "-- learning rate: 0.5\n",
            "Train Images: 60000 with size 784\n",
            "Train Labels: 60000 labels loaded\n",
            "Test Images: 10000 with size 784\n",
            "Test Labels: 10000 labels loaded\n",
            "\n",
            "\n",
            "Train start...\n",
            "-- number of epochs: 5\n",
            "- layer 0 forward time: 53.656673 ms\n",
            "- layer 1 forward time: 5.918336 ms\n",
            "- layer 2 forward time: 2.482048 ms\n",
            ">>> Epoch 1 CEE loss: 12.6463\n",
            "- layer 0 forward time: 52.788097 ms\n",
            "- layer 1 forward time: 5.268384 ms\n",
            "- layer 2 forward time: 2.423200 ms\n",
            ">>> Epoch 2 CEE loss: 12.6444\n",
            "- layer 0 forward time: 56.349407 ms\n",
            "- layer 1 forward time: 5.297632 ms\n",
            "- layer 2 forward time: 2.515200 ms\n",
            ">>> Epoch 3 CEE loss: 12.6435\n",
            "- layer 0 forward time: 53.461151 ms\n",
            "- layer 1 forward time: 5.473344 ms\n",
            "- layer 2 forward time: 2.476128 ms\n",
            ">>> Epoch 4 CEE loss: 12.642\n",
            "- layer 0 forward time: 53.454239 ms\n",
            "- layer 1 forward time: 5.293856 ms\n",
            "- layer 2 forward time: 2.434112 ms\n",
            ">>> Epoch 5 CEE loss: 12.6394\n",
            "TRAIN TIME: 2415.871826 ms\n",
            "\n"
          ]
        }
      ]
    },
    {
      "cell_type": "code",
      "source": [
        "!echo \"Train GPU (optimized)...\"\n",
        "!./bin/nn_main 20 5 0.5 3"
      ],
      "metadata": {
        "colab": {
          "base_uri": "https://localhost:8080/"
        },
        "id": "QzC8RpVuVju4",
        "outputId": "68bc37bf-a47e-4fb8-f40b-80acfbef7e68"
      },
      "execution_count": 39,
      "outputs": [
        {
          "output_type": "stream",
          "name": "stdout",
          "text": [
            "Train GPU (optimized)...\n",
            "-- # neurons: 20\n",
            "-- # epochs: 5\n",
            "-- learning rate: 0.5\n",
            "Train Images: 60000 with size 784\n",
            "Train Labels: 60000 labels loaded\n",
            "Test Images: 10000 with size 784\n",
            "Test Labels: 10000 labels loaded\n",
            "\n",
            "\n",
            "Train start...\n",
            "-- number of epochs: 5\n",
            "- layer 0 forward time: 51.783810 ms\n",
            "- layer 1 forward time: 6.392832 ms\n",
            "- layer 2 forward time: 2.517792 ms\n",
            ">>> Epoch 1 CEE loss: 11.0525\n",
            "- layer 0 forward time: 50.025791 ms\n",
            "- layer 1 forward time: 5.309888 ms\n",
            "- layer 2 forward time: 2.428160 ms\n",
            ">>> Epoch 2 CEE loss: 11.0519\n",
            "- layer 0 forward time: 49.696129 ms\n",
            "- layer 1 forward time: 5.263360 ms\n",
            "- layer 2 forward time: 2.393344 ms\n",
            ">>> Epoch 3 CEE loss: 11.0512\n",
            "- layer 0 forward time: 49.642689 ms\n",
            "- layer 1 forward time: 5.250528 ms\n",
            "- layer 2 forward time: 2.391968 ms\n",
            ">>> Epoch 4 CEE loss: 11.0503\n",
            "- layer 0 forward time: 48.230175 ms\n",
            "- layer 1 forward time: 5.297088 ms\n",
            "- layer 2 forward time: 2.352736 ms\n",
            ">>> Epoch 5 CEE loss: 11.0503\n",
            "TRAIN TIME: 2443.056152 ms\n",
            "\n"
          ]
        }
      ]
    }
  ],
  "metadata": {
    "accelerator": "GPU",
    "colab": {
      "gpuType": "T4",
      "provenance": [],
      "collapsed_sections": [
        "JxobDUCcMqgs"
      ]
    },
    "kernelspec": {
      "display_name": "Python 3",
      "name": "python3"
    },
    "language_info": {
      "name": "python"
    }
  },
  "nbformat": 4,
  "nbformat_minor": 0
}