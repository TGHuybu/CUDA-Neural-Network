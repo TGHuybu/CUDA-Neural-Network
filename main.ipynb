{
  "cells": [
    {
      "cell_type": "markdown",
      "metadata": {
        "id": "iRYSCxOfw63R"
      },
      "source": [
        "# **Fully Connected Neural Network: A `CUDA` and `C++` Implementation**\n",
        "\n",
        "## **Prepare workspace**"
      ]
    },
    {
      "cell_type": "code",
      "execution_count": 23,
      "metadata": {
        "colab": {
          "base_uri": "https://localhost:8080/"
        },
        "id": "TuVjWOoYnS9k",
        "outputId": "19443ae0-9cd1-4bb9-8c15-5530964523b7"
      },
      "outputs": [
        {
          "output_type": "stream",
          "name": "stdout",
          "text": [
            "Drive already mounted at /content/drive; to attempt to forcibly remount, call drive.mount(\"/content/drive\", force_remount=True).\n",
            "/content/drive/MyDrive/ParaProgram/Project\n"
          ]
        }
      ],
      "source": [
        "from google.colab import drive\n",
        "drive.mount(\"/content/drive\")\n",
        "%cd /content/drive/MyDrive/ParaProgram/Project"
      ]
    },
    {
      "cell_type": "markdown",
      "source": [
        "## **Extract `.gz` data (if needed)**"
      ],
      "metadata": {
        "id": "JxobDUCcMqgs"
      }
    },
    {
      "cell_type": "code",
      "execution_count": null,
      "metadata": {
        "id": "zt_j33LhO3S8",
        "colab": {
          "base_uri": "https://localhost:8080/",
          "height": 556
        },
        "outputId": "b8b98d24-f370-4e96-c3f4-8e1f276bfd03"
      },
      "outputs": [
        {
          "output_type": "stream",
          "name": "stdout",
          "text": [
            "Collecting patool\n",
            "  Downloading patool-3.1.0-py2.py3-none-any.whl.metadata (4.3 kB)\n",
            "Downloading patool-3.1.0-py2.py3-none-any.whl (98 kB)\n",
            "\u001b[2K   \u001b[90m━━━━━━━━━━━━━━━━━━━━━━━━━━━━━━━━━━━━━━━━\u001b[0m \u001b[32m98.4/98.4 kB\u001b[0m \u001b[31m2.0 MB/s\u001b[0m eta \u001b[36m0:00:00\u001b[0m\n",
            "\u001b[?25hInstalling collected packages: patool\n",
            "Successfully installed patool-3.1.0\n"
          ]
        },
        {
          "output_type": "stream",
          "name": "stderr",
          "text": [
            "INFO patool: Extracting mnist/t10k-images-idx3-ubyte.gz ...\n",
            "INFO:patool:Extracting mnist/t10k-images-idx3-ubyte.gz ...\n",
            "INFO patool: running /usr/bin/7z e -omnist -- mnist/t10k-images-idx3-ubyte.gz\n",
            "INFO:patool:running /usr/bin/7z e -omnist -- mnist/t10k-images-idx3-ubyte.gz\n",
            "INFO patool: ... mnist/t10k-images-idx3-ubyte.gz extracted to `mnist'.\n",
            "INFO:patool:... mnist/t10k-images-idx3-ubyte.gz extracted to `mnist'.\n",
            "INFO patool: Extracting mnist/t10k-labels-idx1-ubyte.gz ...\n",
            "INFO:patool:Extracting mnist/t10k-labels-idx1-ubyte.gz ...\n",
            "INFO patool: running /usr/bin/7z e -omnist -- mnist/t10k-labels-idx1-ubyte.gz\n",
            "INFO:patool:running /usr/bin/7z e -omnist -- mnist/t10k-labels-idx1-ubyte.gz\n",
            "INFO patool: ... mnist/t10k-labels-idx1-ubyte.gz extracted to `mnist'.\n",
            "INFO:patool:... mnist/t10k-labels-idx1-ubyte.gz extracted to `mnist'.\n",
            "INFO patool: Extracting mnist/train-images-idx3-ubyte.gz ...\n",
            "INFO:patool:Extracting mnist/train-images-idx3-ubyte.gz ...\n",
            "INFO patool: running /usr/bin/7z e -omnist -- mnist/train-images-idx3-ubyte.gz\n",
            "INFO:patool:running /usr/bin/7z e -omnist -- mnist/train-images-idx3-ubyte.gz\n",
            "INFO patool: ... mnist/train-images-idx3-ubyte.gz extracted to `mnist'.\n",
            "INFO:patool:... mnist/train-images-idx3-ubyte.gz extracted to `mnist'.\n",
            "INFO patool: Extracting mnist/train-labels-idx1-ubyte.gz ...\n",
            "INFO:patool:Extracting mnist/train-labels-idx1-ubyte.gz ...\n",
            "INFO patool: running /usr/bin/7z e -omnist -- mnist/train-labels-idx1-ubyte.gz\n",
            "INFO:patool:running /usr/bin/7z e -omnist -- mnist/train-labels-idx1-ubyte.gz\n",
            "INFO patool: ... mnist/train-labels-idx1-ubyte.gz extracted to `mnist'.\n",
            "INFO:patool:... mnist/train-labels-idx1-ubyte.gz extracted to `mnist'.\n"
          ]
        },
        {
          "output_type": "execute_result",
          "data": {
            "text/plain": [
              "'mnist'"
            ],
            "application/vnd.google.colaboratory.intrinsic+json": {
              "type": "string"
            }
          },
          "metadata": {},
          "execution_count": 3
        }
      ],
      "source": [
        "# Extract data from `.gz`\n",
        "# Only need to run once!\n",
        "!pip install patool\n",
        "import patoolib\n",
        "patoolib.extract_archive(\"mnist/t10k-images-idx3-ubyte.gz\", outdir=\"mnist\")\n",
        "patoolib.extract_archive(\"mnist/t10k-labels-idx1-ubyte.gz\", outdir=\"mnist\")\n",
        "patoolib.extract_archive(\"mnist/train-images-idx3-ubyte.gz\", outdir=\"mnist\")\n",
        "patoolib.extract_archive(\"mnist/train-labels-idx1-ubyte.gz\", outdir=\"mnist\")"
      ]
    },
    {
      "cell_type": "markdown",
      "metadata": {
        "id": "XHDo9SlfxRNB"
      },
      "source": [
        "## **Edit `Makefile`**"
      ]
    },
    {
      "cell_type": "code",
      "execution_count": null,
      "metadata": {
        "colab": {
          "base_uri": "https://localhost:8080/"
        },
        "id": "eMaJmzUCqeX5",
        "outputId": "bd47fe4b-6d2e-4c68-d9b3-3ecadcfeeb40"
      },
      "outputs": [
        {
          "output_type": "stream",
          "name": "stdout",
          "text": [
            "Overwriting Makefile\n"
          ]
        }
      ],
      "source": [
        "%%writefile Makefile\n",
        "\n",
        "# Compilers\n",
        "CXX := g++\n",
        "CXX_FLAGS := -std=c++17 -ggdb\n",
        "NVCC := nvcc\n",
        "\n",
        "# Folders\n",
        "BIN := bin\n",
        "SRC := src\n",
        "INCLUDE := include\n",
        "\n",
        "EXECUTABLE := nn_main\n",
        "\n",
        "all: $(BIN)/$(EXECUTABLE)\n",
        "\n",
        "run: clean all\n",
        "\tclear\n",
        "\t./$(BIN)/$(EXECUTABLE)\n",
        "\n",
        "$(BIN)/$(EXECUTABLE): $(SRC)/*.cu $(SRC)/*.cpp\n",
        "\t$(NVCC) -I $(INCLUDE) $^ -o $@\n",
        "\n",
        "clean:\n",
        "\t-rm $(BIN)/*"
      ]
    },
    {
      "cell_type": "markdown",
      "metadata": {
        "id": "Z93_j8BAOv8k"
      },
      "source": [
        "## **Compile and run**"
      ]
    },
    {
      "cell_type": "code",
      "execution_count": 24,
      "metadata": {
        "colab": {
          "base_uri": "https://localhost:8080/"
        },
        "id": "Y_b83tTQvwaW",
        "outputId": "c3bda09c-2088-4cb4-920d-2296e0e90bd6"
      },
      "outputs": [
        {
          "output_type": "stream",
          "name": "stdout",
          "text": [
            "nvcc -I include src/main.cu src/nn.cu src/utils_device.cu src/data.cpp src/utils_host.cpp -o bin/nn_main\n"
          ]
        }
      ],
      "source": [
        "# Compile\n",
        "!make"
      ]
    },
    {
      "cell_type": "markdown",
      "source": [
        "### **Run with different config**\n",
        "> To run the program:\n",
        "> `./main <#-neurons> <#-epochs> <learning-rate> <mode>`"
      ],
      "metadata": {
        "id": "6XVc-Ve3VZzP"
      }
    },
    {
      "cell_type": "code",
      "execution_count": 28,
      "metadata": {
        "colab": {
          "base_uri": "https://localhost:8080/"
        },
        "id": "5Ketu6FMUOVO",
        "outputId": "670f0d75-f49e-4f99-a036-b4e5ca6c434f",
        "collapsed": true
      },
      "outputs": [
        {
          "output_type": "stream",
          "name": "stdout",
          "text": [
            "CPU TEST...\n",
            "-- # neurons: 50\n",
            "-- # epochs: 3\n",
            "-- learning rate: 0.5\n",
            "Train Images: 60000 with size 784\n",
            "Train Labels: 60000 labels loaded\n",
            "Test Images: 10000 with size 784\n",
            "Test Labels: 10000 labels loaded\n",
            "\n",
            "- layer 0 forward time: 9010.190430 ms\n",
            "- layer 1 forward time: 468.251221 ms\n",
            "- layer 2 forward time: 109.666527 ms\n",
            "FORWARD TIME CPU: 9588.397461 ms\n",
            "\n",
            "- layer 0 forward time: 68.087517 ms\n",
            "- layer 1 forward time: 10.192416 ms\n",
            "- layer 2 forward time: 3.583424 ms\n",
            "FORWARD TIME GPU: 86.173508 ms\n",
            "\n",
            "- layer 0 forward time: 62.400162 ms\n",
            "- layer 1 forward time: 10.114080 ms\n",
            "- layer 2 forward time: 3.528352 ms\n",
            "FORWARD TIME GPU (OPTIMIZED): 80.326302 ms\n",
            "\n",
            "-- Mean error CPU - GPU: 6.3041e-08\n",
            "-- Mean error CPU - GPU (optimized): 6.3041e-08\n",
            "\n",
            "Train start...\n",
            "-- number of epochs: 3\n",
            "-- use GPU: 0\n",
            "-- optimize GPU: 0\n",
            "- layer 0 forward time: 7680.871094 ms\n",
            "- layer 1 forward time: 476.981415 ms\n",
            "- layer 2 forward time: 107.284767 ms\n",
            ">>> Epoch 1 CEE loss: 12.4924\n",
            "- layer 0 forward time: 8983.592773 ms\n",
            "- layer 1 forward time: 469.399597 ms\n",
            "- layer 2 forward time: 106.159683 ms\n",
            ">>> Epoch 2 CEE loss: 14.0601\n",
            "- layer 0 forward time: 9007.020508 ms\n",
            "- layer 1 forward time: 474.692596 ms\n",
            "- layer 2 forward time: 119.962051 ms\n",
            ">>> Epoch 3 CEE loss: 14.5115\n",
            "TRAIN TIME: 87855.828125 ms\n",
            "\n"
          ]
        }
      ],
      "source": [
        "!echo \"CPU TEST...\"\n",
        "!./bin/nn_main 50 3 0.5 1"
      ]
    },
    {
      "cell_type": "code",
      "source": [
        "!echo \"GPU TEST...\"\n",
        "!./bin/nn_main 50 3 0.5 2"
      ],
      "metadata": {
        "colab": {
          "base_uri": "https://localhost:8080/"
        },
        "id": "Onw-9ukov6kI",
        "outputId": "759e46dc-1c95-436e-c983-7cb1cb05b2ba"
      },
      "execution_count": 29,
      "outputs": [
        {
          "output_type": "stream",
          "name": "stdout",
          "text": [
            "GPU TEST...\n",
            "-- # neurons: 50\n",
            "-- # epochs: 3\n",
            "-- learning rate: 0.5\n",
            "Train Images: 60000 with size 784\n",
            "Train Labels: 60000 labels loaded\n",
            "Test Images: 10000 with size 784\n",
            "Test Labels: 10000 labels loaded\n",
            "\n",
            "- layer 0 forward time: 7583.410156 ms\n",
            "- layer 1 forward time: 468.371429 ms\n",
            "- layer 2 forward time: 113.567940 ms\n",
            "FORWARD TIME CPU: 8165.673828 ms\n",
            "\n",
            "- layer 0 forward time: 68.895805 ms\n",
            "- layer 1 forward time: 12.988352 ms\n",
            "- layer 2 forward time: 3.976992 ms\n",
            "FORWARD TIME GPU: 91.524445 ms\n",
            "\n",
            "- layer 0 forward time: 65.687523 ms\n",
            "- layer 1 forward time: 9.670432 ms\n",
            "- layer 2 forward time: 3.618688 ms\n",
            "FORWARD TIME GPU (OPTIMIZED): 84.322403 ms\n",
            "\n",
            "-- Mean error CPU - GPU: 4.13167e-08\n",
            "-- Mean error CPU - GPU (optimized): 4.13167e-08\n",
            "\n",
            "Train start...\n",
            "-- number of epochs: 3\n",
            "-- use GPU: 1\n",
            "-- optimize GPU: 0\n",
            "- layer 0 forward time: 62.750015 ms\n",
            "- layer 1 forward time: 12.616256 ms\n",
            "- layer 2 forward time: 4.257408 ms\n",
            "bw GPU\n",
            "1\n",
            "0\n",
            ">>> Epoch 1 CEE loss: 13.8827\n",
            "- layer 0 forward time: 71.292580 ms\n",
            "- layer 1 forward time: 12.080928 ms\n",
            "- layer 2 forward time: 4.021280 ms\n",
            "bw GPU\n",
            "1\n",
            "0\n",
            ">>> Epoch 2 CEE loss: 13.6107\n",
            "- layer 0 forward time: 61.700352 ms\n",
            "- layer 1 forward time: 12.242848 ms\n",
            "- layer 2 forward time: 3.737280 ms\n",
            "bw GPU\n",
            "1\n",
            "0\n",
            ">>> Epoch 3 CEE loss: 16.124\n",
            "TRAIN TIME: 689.885315 ms\n",
            "\n"
          ]
        }
      ]
    },
    {
      "cell_type": "code",
      "source": [
        "!echo \"GPU TEST...\"\n",
        "!./bin/nn_main 50 3 0.5 3"
      ],
      "metadata": {
        "colab": {
          "base_uri": "https://localhost:8080/"
        },
        "id": "EfZrAoPAv-GA",
        "outputId": "e92d32d2-910b-4816-9e65-e36852264d20"
      },
      "execution_count": 30,
      "outputs": [
        {
          "output_type": "stream",
          "name": "stdout",
          "text": [
            "GPU TEST...\n",
            "-- # neurons: 50\n",
            "-- # epochs: 3\n",
            "-- learning rate: 0.5\n",
            "Train Images: 60000 with size 784\n",
            "Train Labels: 60000 labels loaded\n",
            "Test Images: 10000 with size 784\n",
            "Test Labels: 10000 labels loaded\n",
            "\n",
            "- layer 0 forward time: 7633.858398 ms\n",
            "- layer 1 forward time: 473.356415 ms\n",
            "- layer 2 forward time: 114.972672 ms\n",
            "FORWARD TIME CPU: 8222.489258 ms\n",
            "\n",
            "- layer 0 forward time: 68.588318 ms\n",
            "- layer 1 forward time: 9.579968 ms\n",
            "- layer 2 forward time: 3.555968 ms\n",
            "FORWARD TIME GPU: 87.120094 ms\n",
            "\n",
            "- layer 0 forward time: 62.548862 ms\n",
            "- layer 1 forward time: 10.235680 ms\n",
            "- layer 2 forward time: 4.146112 ms\n",
            "FORWARD TIME GPU (OPTIMIZED): 81.554276 ms\n",
            "\n",
            "-- Mean error CPU - GPU: 5.38019e-08\n",
            "-- Mean error CPU - GPU (optimized): 5.40838e-08\n",
            "\n",
            "Train start...\n",
            "-- number of epochs: 3\n",
            "-- use GPU: 1\n",
            "-- optimize GPU: 1\n",
            "- layer 0 forward time: 63.105728 ms\n",
            "- layer 1 forward time: 11.451776 ms\n",
            "- layer 2 forward time: 3.552768 ms\n",
            "bw GPU\n",
            "1\n",
            "0\n",
            ">>> Epoch 1 CEE loss: 12.6426\n",
            "- layer 0 forward time: 58.929920 ms\n",
            "- layer 1 forward time: 12.167936 ms\n",
            "- layer 2 forward time: 4.014432 ms\n",
            "bw GPU\n",
            "1\n",
            "0\n",
            ">>> Epoch 2 CEE loss: 14.5115\n",
            "- layer 0 forward time: 61.290146 ms\n",
            "- layer 1 forward time: 10.872928 ms\n",
            "- layer 2 forward time: 3.754464 ms\n",
            "bw GPU\n",
            "1\n",
            "0\n",
            ">>> Epoch 3 CEE loss: 16.124\n",
            "TRAIN TIME: 640.167908 ms\n",
            "\n"
          ]
        }
      ]
    }
  ],
  "metadata": {
    "accelerator": "GPU",
    "colab": {
      "gpuType": "T4",
      "provenance": [],
      "collapsed_sections": [
        "JxobDUCcMqgs"
      ]
    },
    "kernelspec": {
      "display_name": "Python 3",
      "name": "python3"
    },
    "language_info": {
      "name": "python"
    }
  },
  "nbformat": 4,
  "nbformat_minor": 0
}